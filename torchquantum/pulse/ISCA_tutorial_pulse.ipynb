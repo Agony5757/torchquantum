{
 "cells": [
  {
   "cell_type": "markdown",
   "id": "a7f89f62",
   "metadata": {},
   "source": [
    "# Examples of quantum pulses in TorchQuantum\n",
    "\n",
    "Author: Jinglei Cheng, 2023\n",
    "\n",
    "### Introduction\n",
    "\n",
    "This notebook can be devided into three parts:\n",
    "1. Example of qubit dynamics with Schrödinger equation solver\n",
    "2. Example of qubit dynamics with Lindblad master equation solver\n",
    "3. Example of quantum optimal control\n",
    "\n",
    "### Setup\n",
    "\n",
    "First, we install the TorchQuantum and import the required functions, etc."
   ]
  },
  {
   "cell_type": "code",
   "execution_count": null,
   "id": "ec7d5088",
   "metadata": {},
   "outputs": [],
   "source": [
    "!git clone https://github.com/mit-han-lab/torchquantum.git\n",
    "%cd /content/torchquantum\n",
    "!pip install --editable . 1>/dev/null"
   ]
  },
  {
   "cell_type": "code",
   "execution_count": 1,
   "id": "5f13eb79",
   "metadata": {},
   "outputs": [],
   "source": [
    "import torch\n",
    "import numpy as np\n",
    "import torchquantum as tq\n",
    "from torchquantum.pulse import *\n",
    "import matplotlib.pyplot as plt\n",
    "from utils import *\n",
    "from qutip import Bloch"
   ]
  },
  {
   "cell_type": "markdown",
   "id": "a9a2e056",
   "metadata": {},
   "source": [
    "# 1. Schordinger equation solver for singe qubit dynamics"
   ]
  },
  {
   "cell_type": "markdown",
   "id": "e6f3e433",
   "metadata": {},
   "source": [
    "Lamor precession is the precession of the magnetic moment of an object in an external magnetic field.\n",
    "A good example is the \n",
    "\n",
    "\n",
    "We define an initial state psi0 as the starting point of the time evolution.\n",
    "The Hamiltonian of the system is: $H = $"
   ]
  },
  {
   "cell_type": "code",
   "execution_count": null,
   "id": "47404173",
   "metadata": {},
   "outputs": [],
   "source": []
  },
  {
   "cell_type": "code",
   "execution_count": null,
   "id": "9d9a1cfe",
   "metadata": {},
   "outputs": [],
   "source": []
  }
 ],
 "metadata": {
  "kernelspec": {
   "display_name": "Python 3 (ipykernel)",
   "language": "python",
   "name": "python3"
  },
  "language_info": {
   "codemirror_mode": {
    "name": "ipython",
    "version": 3
   },
   "file_extension": ".py",
   "mimetype": "text/x-python",
   "name": "python",
   "nbconvert_exporter": "python",
   "pygments_lexer": "ipython3",
   "version": "3.9.16"
  }
 },
 "nbformat": 4,
 "nbformat_minor": 5
}
