{
 "cells": [
  {
   "cell_type": "code",
   "execution_count": 1,
   "metadata": {},
   "outputs": [
    {
     "name": "stdout",
     "output_type": "stream",
     "text": [
      "tensor([0.8776], grad_fn=<SelectBackward0>)\n",
      "[{'name': 'OpPauliExp', 'wires': [0, 1, 2, 3], 'coeffs': [1.0], 'paulis': ['YXIX'], 'inverse': False, 'trainable': True, 'params': 0.5}]\n"
     ]
    }
   ],
   "source": [
    "from example import QVQEModel\n",
    "import torch\n",
    "import torchquantum as tq\n",
    "import torchquantum.functional as tqf\n",
    "from torchquantum.measurement import expval_joint_analytical"
   ]
  },
  {
   "cell_type": "code",
   "execution_count": 2,
   "metadata": {},
   "outputs": [
    {
     "name": "stdout",
     "output_type": "stream",
     "text": [
      "tensor([0.8776], grad_fn=<SelectBackward0>)\n",
      "[{'name': 'OpPauliExp', 'wires': [0, 1, 2, 3], 'coeffs': [1.0], 'paulis': ['YXIX'], 'inverse': False, 'trainable': True, 'params': 0.5}]\n"
     ]
    }
   ],
   "source": [
    "model = QVQEModel()\n",
    "expval, qdev = model()\n",
    "print(expval)\n",
    "print(qdev.op_history)"
   ]
  },
  {
   "cell_type": "code",
   "execution_count": 3,
   "metadata": {},
   "outputs": [],
   "source": [
    "def gradient_circuit(qdev, left, target, right):\n",
    "    '''\n",
    "    compute gradient for target gate\n",
    "    qdev:\n",
    "    left:\n",
    "    target:\n",
    "    right:\n",
    "    return:\n",
    "    '''\n",
    "    dev = tq.QuantumDevice(n_wires=qdev.n_wires+1, bsz=100, device=\"cpu\") # use device='cuda' for GPU\n",
    "    ancilla_qubit = qdev.n_wires\n",
    "\n",
    "    # ancilla\n",
    "    dev.h(wires=ancilla_qubit)\n",
    "    # left\n",
    "    for op_info in left:\n",
    "        op = tq.operator.OpPauliExp(coeffs=op_info['coeffs'], paulis=op_info['paulis'], theta=op_info['params'], trainable=False)\n",
    "        op(dev, wires=op_info['wires'])\n",
    "    # target\n",
    "    generator = tq.algorithm.Hamiltonian(coeffs=target['coeffs'], paulis=target['paulis']) # ZZZZ + 2*XXXX\n",
    "    dev.controlled_unitary(params=generator.matrix, c_wires=[ancilla_qubit], t_wires=target['wires'])\n",
    "    # ancilla\n",
    "    dev.h(wires=ancilla_qubit)\n",
    "    # right\n",
    "    for op_info in right:\n",
    "        op = tq.operator.OpPauliExp(coeffs=op_info['coeffs'], paulis=op_info['paulis'], theta=op_info['params'], trainable=False)\n",
    "        op(dev, wires=op_info['wires'])\n",
    "\n",
    "    # measurement\n",
    "    original_measurement = 'ZZZZ' # get the measurement of the original circuit\n",
    "    expval = expval_joint_analytical(dev, original_measurement+'Y')\n",
    "    return -torch.mean(expval)"
   ]
  },
  {
   "cell_type": "code",
   "execution_count": 4,
   "metadata": {},
   "outputs": [],
   "source": [
    "def get_gradients(qdev):\n",
    "    '''\n",
    "    return the gradients for parameters in the q_device\n",
    "    '''\n",
    "    gradient_list = []\n",
    "    for i, op in enumerate(qdev.op_history):\n",
    "        if not op['trainable']:\n",
    "            gradient_list.append(None)\n",
    "        else:\n",
    "            left = qdev.op_history[:i+1]\n",
    "            target = op\n",
    "            right = qdev.op_history[i+1:]\n",
    "            gradient_list.append(\n",
    "                gradient_circuit(qdev, left, target, right)\n",
    "            )\n",
    "\n",
    "    return gradient_list"
   ]
  },
  {
   "cell_type": "code",
   "execution_count": 5,
   "metadata": {},
   "outputs": [
    {
     "name": "stderr",
     "output_type": "stream",
     "text": [
      "/vast/palmer/home.grace/dl2276/AllProjects/torchquantum/torchquantum/functional/func_controlled_unitary.py:99: UserWarning: To copy construct from a tensor, it is recommended to use sourceTensor.clone().detach() or sourceTensor.clone().detach().requires_grad_(True), rather than torch.tensor(sourceTensor).\n",
      "  unitary = torch.tensor(torch.zeros(2**n_wires, 2**n_wires, dtype=C_DTYPE))\n"
     ]
    },
    {
     "data": {
      "text/plain": [
       "[tensor(-0.4794)]"
      ]
     },
     "execution_count": 5,
     "metadata": {},
     "output_type": "execute_result"
    }
   ],
   "source": [
    "get_gradients(qdev)\n",
    "# -0.47942554"
   ]
  }
 ],
 "metadata": {
  "kernelspec": {
   "display_name": "Python 3.10.11 ('tq')",
   "language": "python",
   "name": "python3"
  },
  "language_info": {
   "codemirror_mode": {
    "name": "ipython",
    "version": 3
   },
   "file_extension": ".py",
   "mimetype": "text/x-python",
   "name": "python",
   "nbconvert_exporter": "python",
   "pygments_lexer": "ipython3",
   "version": "3.10.11"
  },
  "orig_nbformat": 4,
  "vscode": {
   "interpreter": {
    "hash": "0e29a0e2839e50afa2f3a774fbdc59fa5f031cf090cdc0c9e6a9a24240713eb0"
   }
  }
 },
 "nbformat": 4,
 "nbformat_minor": 2
}
